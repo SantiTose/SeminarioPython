{
 "cells": [
  {
   "cell_type": "code",
   "execution_count": 1,
   "metadata": {},
   "outputs": [],
   "source": [
    "import sys\n",
    "sys.path.append(\"../Practica2/src\")"
   ]
  },
  {
   "cell_type": "markdown",
   "metadata": {},
   "source": [
    "# Ejercicio 1\n",
    "1. Análisis del Zen de Python\n",
    "Copie el texto del Zen de Python en una variable e imprima todas las líneas cuya segunda\n",
    "palabra comience con una vocal (A, E, I, O, U, a, e, i, o, u).\n",
    "El Zen de Python es una colección de principios que guían la filosofía de diseño de Python,\n",
    "escrita en forma de aforismos. Resalta la simplicidad, legibilidad y claridad en el código.\n",
    "Para verlo en Python, ejecute en la consola import this\n",
    "Para este punto debe colocar el contenido del Zen de python en una variable string:\n"
   ]
  },
  {
   "cell_type": "code",
   "execution_count": 2,
   "metadata": {},
   "outputs": [
    {
     "name": "stdout",
     "output_type": "stream",
     "text": [
      "Beautiful is better than ugly.\n",
      "Explicit is better than implicit.\n",
      "Simple is better than complex.\n",
      "Complex is better than complicated.\n",
      "Flat is better than nested.\n",
      "Sparse is better than dense.\n",
      "Unless explicitly silenced.\n",
      "Now is better than never.\n",
      "Namespaces are one honking great idea -- let's do more of those!\n",
      "\n"
     ]
    }
   ],
   "source": [
    "from Ejercicio1 import vocalSegundaPalabra\n",
    "zen = \"\"\"Beautiful is better than ugly.\n",
    "Explicit is better than implicit.\n",
    "Simple is better than complex.\n",
    "Complex is better than complicated.\n",
    "Flat is better than nested.\n",
    "Sparse is better than dense.\n",
    "Readability counts.\n",
    "Special cases aren't special enough to break the rules.\n",
    "Although practicality beats purity.\n",
    "Errors should never pass silently.\n",
    "Unless explicitly silenced.\n",
    "In the face of ambiguity, refuse the temptation to guess.\n",
    "There should be one-- and preferably only one --obvious way to do it.\n",
    "Although that way may not be obvious at first unless you're Dutch.\n",
    "Now is better than never.\n",
    "Although never is often better than *right* now.\n",
    "If the implementation is hard to explain, it's a bad idea.\n",
    "If the implementation is easy to explain, it may be a good idea.\n",
    "Namespaces are one honking great idea -- let's do more of those!\"\"\".split('\\n')\n",
    "\n",
    "print(vocalSegundaPalabra(zen))"
   ]
  },
  {
   "cell_type": "markdown",
   "metadata": {},
   "source": [
    "# Ejercicio 2\n",
    "Dado un listado de títulos de streams en Twitch:\n",
    "\n",
    "Encuentre el título con más palabras y muéstrelo en pantalla.\n"
   ]
  },
  {
   "cell_type": "code",
   "execution_count": 3,
   "metadata": {},
   "outputs": [
    {
     "name": "stdout",
     "output_type": "stream",
     "text": [
      "Jugando al nuevo FPS del momento con amigos\n"
     ]
    }
   ],
   "source": [
    "from Ejercicio2 import buscarMasPalabras\n",
    "titles = [\n",
    "    \"Speedrun de Super Mario en tiempo récord\",\n",
    "    \"Charla sobre desarrollo de videojuegos\",\n",
    "    \"Jugando al nuevo FPS del momento con amigos\",\n",
    "    \"Música en vivo: improvisaciones al piano\"\n",
    "         ]\n",
    "\n",
    "print(buscarMasPalabras(titles))\n"
   ]
  },
  {
   "cell_type": "markdown",
   "metadata": {},
   "source": [
    "# Ejercicio 3\n",
    "Dado un código de conducta para un servidor de Discord:\n",
    "Solicite una palabra clave al usuario e imprima todas las reglas que la contengan.\n"
   ]
  },
  {
   "cell_type": "code",
   "execution_count": 4,
   "metadata": {},
   "outputs": [
    {
     "name": "stdout",
     "output_type": "stream",
     "text": [
      "Respeta a los demás.\n",
      "No se permiten insultos ni lenguaje ofensivo.\n",
      "Evita el spam .\n",
      "No publiques enlaces sospechosos o repetitivos.\n",
      "No compartas información personal.\n",
      "Usa los canales adecuados para cada tema.\n",
      "Sigue las instrucciones de los moderadores.\n",
      "\n"
     ]
    }
   ],
   "source": [
    "from Ejercicio3 import buscarFrase\n",
    "rules = \"\"\"Respeta a los demás.\n",
    "No se permiten insultos ni lenguaje ofensivo.\n",
    "Evita el spam .\n",
    "No publiques enlaces sospechosos o repetitivos.\n",
    "No compartas información personal.\n",
    "Usa los canales adecuados para cada tema.\n",
    "Sigue las instrucciones de los moderadores.\"\"\".split('\\n')\n",
    "\n",
    "print(buscarFrase(rules))"
   ]
  },
  {
   "cell_type": "markdown",
   "metadata": {},
   "source": [
    "# Ejercicio 4\n",
    "Valide un nombre de usuario con los siguientes criterios:\n",
    "Al menos 5 caracteres.\n",
    "Contiene al menos un número.\n",
    "Contiene al menos una letra mayúscula.\n",
    "Solo puede contener letras y números\n",
    "Ejemplo de entrada y salida esperada:"
   ]
  },
  {
   "cell_type": "code",
   "execution_count": 5,
   "metadata": {},
   "outputs": [
    {
     "name": "stdout",
     "output_type": "stream",
     "text": [
      "Nombre de usuario invalido\n"
     ]
    }
   ],
   "source": [
    "from Ejercicio4 import comprobarUsuario\n",
    "nombre = input('Ingrese un nombre de usuario')\n",
    "comprobarUsuario(nombre)\n"
   ]
  },
  {
   "cell_type": "markdown",
   "metadata": {},
   "source": [
    "# Ejercicio 5\n",
    "Dado el tiempo de reacción de un jugador en milisegundos, clasifíquelo en las siguientes\n",
    "categorías:"
   ]
  },
  {
   "cell_type": "code",
   "execution_count": 6,
   "metadata": {},
   "outputs": [
    {
     "ename": "ValueError",
     "evalue": "invalid literal for int() with base 10: ''",
     "output_type": "error",
     "traceback": [
      "\u001b[31m---------------------------------------------------------------------------\u001b[39m",
      "\u001b[31mValueError\u001b[39m                                Traceback (most recent call last)",
      "\u001b[36mCell\u001b[39m\u001b[36m \u001b[39m\u001b[32mIn[6]\u001b[39m\u001b[32m, line 2\u001b[39m\n\u001b[32m      1\u001b[39m \u001b[38;5;28;01mfrom\u001b[39;00m\u001b[38;5;250m \u001b[39m\u001b[34;01mEjercicio5\u001b[39;00m\u001b[38;5;250m \u001b[39m\u001b[38;5;28;01mimport\u001b[39;00m clasificarRapidez\n\u001b[32m----> \u001b[39m\u001b[32m2\u001b[39m vel = \u001b[38;5;28;43mint\u001b[39;49m\u001b[43m(\u001b[49m\u001b[38;5;28;43minput\u001b[39;49m\u001b[43m(\u001b[49m\u001b[33;43m'\u001b[39;49m\u001b[33;43mIngrese su velocidad en ms\u001b[39;49m\u001b[33;43m'\u001b[39;49m\u001b[43m)\u001b[49m\u001b[43m)\u001b[49m\n\u001b[32m      3\u001b[39m \u001b[38;5;28mprint\u001b[39m(clasificarRapidez(vel))\n",
      "\u001b[31mValueError\u001b[39m: invalid literal for int() with base 10: ''"
     ]
    }
   ],
   "source": [
    "from Ejercicio5 import clasificarRapidez\n",
    "vel = int(input('Ingrese su velocidad en ms'))\n",
    "print(clasificarRapidez(vel))"
   ]
  },
  {
   "cell_type": "markdown",
   "metadata": {},
   "source": [
    "# Ejercicio 6\n",
    "Dadas varias descripciones de streams en Twitch, cuente cuántas menciones hay de\n",
    "\"entretenimiento\", \"música\" y \"charla\".\n"
   ]
  },
  {
   "cell_type": "code",
   "execution_count": null,
   "metadata": {},
   "outputs": [],
   "source": [
    "from Ejercicio6 import contarMenciones\n",
    "descriptions = [\n",
    "\"Streaming de música en vivo con covers y composiciones\",\n",
    "\"Charla interactiva con la audiencia sobre series y películas\",\n",
    "\"Jugamos a juegos retro y charlamos sobre su historia\",\n",
    "\"Exploramos la mejor música de los 80s y 90s\",\n",
    "\"Programa de entretenimiento con noticias y curiosidades del mundo gamer\",\n",
    "\"Sesión de charla con invitados especiales del mundo del streaming\",\n",
    "\"Música en directo con improvisaciones y peticiones del chat\",\n",
    "\"Un espacio para charlar relajada sobre tecnología y cultura digital\",\n",
    "\"Exploramos el impacto de la música en los videojuegos clásicos\"\n",
    "]\n",
    "print(contarMenciones(descriptions))"
   ]
  },
  {
   "cell_type": "markdown",
   "metadata": {},
   "source": [
    "# Ejercicio 7\n",
    "Genere un código de descuento aleatorio para un usuario en base a su nombre, la fecha\n",
    "actual y el resto deben ser números o letras aleatorias. El código debe tener una longitud de\n",
    "30 caracteres, todas las letras deben ser mayúsculas.\n",
    "El usuario debe ingresarse por teclado y debe validar que no exeda los 15 caracteres"
   ]
  },
  {
   "cell_type": "code",
   "execution_count": null,
   "metadata": {},
   "outputs": [
    {
     "name": "stdout",
     "output_type": "stream",
     "text": [
      "Codigo de descuento: SANTINO-20060519-JTXL41GGIMAK456\n"
     ]
    }
   ],
   "source": [
    "from Ejercicio7 import generarCodigo\n",
    "nombre = input('Ingrese su nombre')\n",
    "fecha= input('Ingrese la fecha actual')\n",
    "print(f\"Codigo de descuento: {generarCodigo(nombre,fecha)}\")"
   ]
  },
  {
   "cell_type": "markdown",
   "metadata": {},
   "source": [
    "# Ejercicio 8\n",
    "Determine si dos palabras ingresadas son anagramas (contienen las mismas letras en\n",
    "diferente orden).\n"
   ]
  },
  {
   "cell_type": "code",
   "execution_count": null,
   "metadata": {},
   "outputs": [
    {
     "name": "stdout",
     "output_type": "stream",
     "text": [
      "Es un anagrama!\n"
     ]
    }
   ],
   "source": [
    "from Ejercicio8 import verificarSiSonAnagramas\n",
    "pal1 =input('Ingrese una palabra: ')\n",
    "pal2= input('Ingrese otra palabra :')\n",
    "\n",
    "print(verificarSiSonAnagramas(pal1,pal2))"
   ]
  },
  {
   "cell_type": "markdown",
   "metadata": {},
   "source": [
    "# Ejercicio 9\n",
    "Eres un analista de datos en una empresa que ha recibido una lista de nombres de clientes\n",
    "de distintas fuentes.\n",
    "Sin embargo, estos datos contienen errores, espacios en blanco, nombres repetidos y\n",
    "valores nulos.\n",
    "Tu tarea es desarrollar un sistema que limpie y estandarice estos datos para poder usarlos\n",
    "en el sistema de facturación"
   ]
  },
  {
   "cell_type": "code",
   "execution_count": null,
   "metadata": {},
   "outputs": [
    {
     "name": "stdout",
     "output_type": "stream",
     "text": [
      "Ana López\n",
      "Marta Suárez\n",
      "Luis Rodríguez\n",
      "María Martínez\n",
      "Claudia Torres\n",
      "Pedro Gómez\n",
      "Juan Pérez\n",
      "Ricardo Fernández\n",
      "Laura Ramos\n",
      "Carlos Mendes\n",
      "Alejandro González\n",
      "Patricia Vega\n",
      "Andrés Ocampo\n",
      "Monica Herrera\n",
      "Gabriela Ruíz\n",
      "Sandra Morales\n",
      "Miguel Ángel\n",
      "Damián Castillo\n"
     ]
    }
   ],
   "source": [
    "from Ejercicio9 import arreglarDatos\n",
    "clients = [\n",
    "\" Ana López \", \"Pedro Gómez\", \"maría martínez\", \"Pedro Gómez \", \"\",\n",
    "\" Luis Rodríguez \", None, \"ana lópez\", \"JUAN PÉREZ\", \"MARTA SUÁREZ\",\n",
    "\"luis rodríguez\", \"maría martínez \", \" claudia torres\", \"CLAUDIA TORRES\",\n",
    "\" \", \"pedro gómez\", \"Juan Pérez\", None, \"Ricardo Fernández\", \"LAURA RAMOS\",\n",
    "\"carlos mendes\", \"RICARDO FERNÁNDEZ \", \" Laura ramos\", \"CARLOS MENDES\",\n",
    "\"alejandro gonzález\", \" ALEJANDRO GONZÁLEZ \", \"Patricia Vega\",\n",
    "\"patricia VEGA\", \"Andrés Ocampo\", \" andrés ocampo\", \"Monica Herrera\",\n",
    "\"MONICA HERRERA \", \"gabriela ruíz\", \"Gabriela Ruíz\", \"sandra morales\",\n",
    "\"SANDRA MORALES\", \"miguel ángel\", \"Miguel Ángel \", \" Damián Castillo\",\n",
    "\"Damián Castillo \", None, \"\", \" \"\n",
    "]\n",
    "lista = (arreglarDatos(clients))\n",
    "for elem in lista:\n",
    "    print(elem)"
   ]
  },
  {
   "cell_type": "markdown",
   "metadata": {},
   "source": [
    "# Ejercicio 10\n",
    "Simule varias partidas de un juego de disparos y genere un ranking basado en el puntaje\n",
    "total de cada jugador. Se utilizará el siguiente sistema de puntuación:\n"
   ]
  },
  {
   "cell_type": "code",
   "execution_count": null,
   "metadata": {},
   "outputs": [
    {
     "name": "stdout",
     "output_type": "stream",
     "text": [
      "Resultado de la Ronda 1\n",
      "--------------------------------------------------------\n",
      "| Jugador  Kills  Asistencias  Muertes  MVPs  Puntos   |\n",
      "|  Shadow     2       1          1       1      6      |\n",
      "|  Viper      1       2          1       0      4      |\n",
      "|  Reaper     1       1          0       0      4      |\n",
      "|  Blaze      1       0          0       0      3      |\n",
      "|  Frost      0       1          0       0      1      |\n",
      "\n",
      "Resultado de la Ronda 2\n",
      "--------------------------------------------------------\n",
      "| Jugador  Kills  Asistencias  Muertes  MVPs  Puntos   |\n",
      "|  Shadow     2       3          1       1      8      |\n",
      "|  Viper      2       3          1       0      8      |\n",
      "|  Blaze      3       0          1       0      8      |\n",
      "|  Frost      2       2          1       1      7      |\n",
      "|  Reaper     1       2          0       0      5      |\n",
      "\n",
      "Resultado de la Ronda 3\n",
      "--------------------------------------------------------\n",
      "| Jugador  Kills  Asistencias  Muertes  MVPs  Puntos   |\n",
      "|  Blaze      5       2          2       1      15     |\n",
      "|  Shadow     3       3          1       1      11     |\n",
      "|  Viper      3       4          2       0      11     |\n",
      "|  Reaper     2       3          0       0      9      |\n",
      "|  Frost      2       3          1       1      8      |\n",
      "\n",
      "Resultado de la Ronda 4\n",
      "--------------------------------------------------------\n",
      "| Jugador  Kills  Asistencias  Muertes  MVPs  Puntos   |\n",
      "|  Shadow     5       4          1       2      18     |\n",
      "|  Blaze      6       2          3       1      17     |\n",
      "|  Viper      3       6          2       0      13     |\n",
      "|  Reaper     3       4          0       0      13     |\n",
      "|  Frost      3       4          2       1      11     |\n",
      "\n",
      "Resultado de la Ronda 5\n",
      "--------------------------------------------------------\n",
      "| Jugador  Kills  Asistencias  Muertes  MVPs  Puntos   |\n",
      "|  Shadow     6       6          2       2      22     |\n",
      "|  Blaze      6       3          3       1      18     |\n",
      "|  Viper      5       6          3       1      18     |\n",
      "|  Reaper     4       5          1       0      16     |\n",
      "|  Frost      4       5          2       1      15     |\n",
      "\n",
      "Ranking Final\n",
      "--------------------------------------------------------\n",
      "| Jugador  Kills  Asistencias  Muertes  MVPs  Puntos   |\n",
      "|  Shadow     6       6          2       2      22     |\n",
      "|  Blaze      6       3          3       1      18     |\n",
      "|  Viper      5       6          3       1      18     |\n",
      "|  Reaper     4       5          1       0      16     |\n",
      "|  Frost      4       5          2       1      15     |\n",
      "\n",
      "Juego Finalizado\n"
     ]
    }
   ],
   "source": [
    "from Ejercicio10 import procesarPartida\n",
    "rounds = [\n",
    "{\n",
    "'Shadow': {'kills': 2, 'assists': 1, 'deaths': True},\n",
    "'Blaze': {'kills': 1, 'assists': 0, 'deaths': False},\n",
    "'Viper': {'kills': 1, 'assists': 2, 'deaths': True},\n",
    "'Frost': {'kills': 0, 'assists': 1, 'deaths': False},\n",
    "'Reaper': {'kills': 1, 'assists': 1, 'deaths': False}\n",
    "},\n",
    "{\n",
    "'Shadow': {'kills': 0, 'assists': 2, 'deaths': False},\n",
    "'Blaze': {'kills': 2, 'assists': 0, 'deaths': True},\n",
    "'Viper': {'kills': 1, 'assists': 1, 'deaths': False},\n",
    "'Frost': {'kills': 2, 'assists': 1, 'deaths': True},\n",
    "'Reaper': {'kills': 0, 'assists': 1, 'deaths': False}\n",
    "},\n",
    "{\n",
    "'Shadow': {'kills': 1, 'assists': 0, 'deaths': False},\n",
    "'Blaze': {'kills': 2, 'assists': 2, 'deaths': True},\n",
    "'Viper': {'kills': 1, 'assists': 1, 'deaths': True},\n",
    "'Frost': {'kills': 0, 'assists': 1, 'deaths': False},\n",
    "'Reaper': {'kills': 1, 'assists': 1, 'deaths': False}\n",
    "},\n",
    "{\n",
    "'Shadow': {'kills': 2, 'assists': 1, 'deaths': False},\n",
    "'Blaze': {'kills': 1, 'assists': 0, 'deaths': True},\n",
    "'Viper': {'kills': 0, 'assists': 2, 'deaths': False},\n",
    "'Frost': {'kills': 1, 'assists': 1, 'deaths': True},\n",
    "'Reaper': {'kills': 1, 'assists': 1, 'deaths': False}\n",
    "},\n",
    "{\n",
    "'Shadow': {'kills': 1, 'assists': 2, 'deaths': True},\n",
    "'Blaze': {'kills': 0, 'assists': 1, 'deaths': False},\n",
    "'Viper': {'kills': 2, 'assists': 0, 'deaths': True},\n",
    "'Frost': {'kills': 1, 'assists': 1, 'deaths': False},\n",
    "'Reaper': {'kills': 1, 'assists': 1, 'deaths': True}\n",
    "}\n",
    "]\n",
    "\n",
    "print(procesarPartida(rounds))"
   ]
  }
 ],
 "metadata": {
  "kernelspec": {
   "display_name": "Python 3",
   "language": "python",
   "name": "python3"
  },
  "language_info": {
   "codemirror_mode": {
    "name": "ipython",
    "version": 3
   },
   "file_extension": ".py",
   "mimetype": "text/x-python",
   "name": "python",
   "nbconvert_exporter": "python",
   "pygments_lexer": "ipython3",
   "version": "3.12.9"
  }
 },
 "nbformat": 4,
 "nbformat_minor": 2
}
